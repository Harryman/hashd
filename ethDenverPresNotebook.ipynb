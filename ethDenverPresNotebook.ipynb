{
 "cells": [
  {
   "cell_type": "code",
   "execution_count": null,
   "metadata": {},
   "outputs": [],
   "source": [
    "import hashlib\n",
    "import time\n",
    "import binascii\n",
    "from mnemonic import Mnemonic\n",
    "import pickledb\n",
    "import socket\n",
    "from ecdsa import SigningKey, VerifyingKey, SECP256k1\n",
    "db = pickledb.load('test.db',True)\n",
    "m = Mnemonic('english')\n",
    "\n",
    "#HOST = ''\n",
    "#PORT = 44444\n",
    "#s = socket.socket(socket.AF_INET, socket.SOCK_STREAM)\n",
    "#s.bind((HOST,PORT))\n",
    "#s.listen(1)\n",
    "#conn, addr = s.accept()"
   ]
  },
  {
   "cell_type": "code",
   "execution_count": null,
   "metadata": {},
   "outputs": [],
   "source": [
    "def get_ip():\n",
    "    s = socket.socket(socket.AF_INET, socket.SOCK_DGRAM)\n",
    "    try:\n",
    "        # doesn't even have to be reachable\n",
    "        s.connect(('10.255.255.255', 1))\n",
    "        IP = s.getsockname()[0]\n",
    "    except:\n",
    "        IP = '127.0.0.1'\n",
    "    finally:\n",
    "        s.close()\n",
    "    return IP\n",
    "\n",
    "def bCastMerkle(opType,value):\n",
    "    hsh = hashlib.sha256()\n",
    "    hsh.update(opType)\n",
    "    hashC = hsh.digest()\n",
    "    hsh = hashlib.sha256()\n",
    "    hsh.update(value)\n",
    "    hashD = hsh.digest()\n",
    "    hsh = hashlib.sha256()\n",
    "    hsh.update(hashC)\n",
    "    hsh.update(hashD)\n",
    "    hashA = hsh.digest()\n",
    "    return [hashC,hashD,hashA]\n",
    "\n",
    "\n",
    "def mRoot(hashA,hashB):\n",
    "    hsh = hashlib.sha256()\n",
    "    hsh.update(hashA)\n",
    "    hsh.update(hashB)\n",
    "    root = hsh.digest()\n",
    "    return root\n",
    "\n",
    "def sliceOp(op): #slices integer value into a 4byte array to ensure correctness when constructing the block\n",
    "    opB = bytearray(4)\n",
    "    for i in range(4):\n",
    "        opB[i] = (op >> (24 - i * 8) & 255)\n",
    "    return opB\n",
    "\n",
    "def makeBlock(op,mRoot,prevBlkSig,sk):\n",
    "        opPad = sliceOp(op)\n",
    "        sigField = opPad + mRoot + prevBlkSig\n",
    "        #print(sigField)\n",
    "        blkSig = sk.sign(sigField)\n",
    "        return blkSig\n",
    "\n",
    "def addWork(blockSig, duration):\n",
    "    nonce = 0\n",
    "    low = bytearray(32)\n",
    "    for i in range(32):\n",
    "        low[i] = 255\n",
    "    start = time.time()\n",
    "    now = start\n",
    "    while (start + duration) > now: \n",
    "        now = time.time()\n",
    "        h = hashlib.sha256()\n",
    "        h.update(blockSig)\n",
    "        h.update(nonce.to_bytes(16,'little',signed=False))\n",
    "        crnt = h.digest()\n",
    "        if crnt < low:\n",
    "            low = crnt\n",
    "            lowNonce = nonce\n",
    "        nonce = nonce + 1 \n",
    "    lowout = binascii.hexlify(low)\n",
    "    print(lowout)\n",
    "    print(lowNonce)\n",
    "    return lowNonce\n"
   ]
  },
  {
   "cell_type": "code",
   "execution_count": null,
   "metadata": {},
   "outputs": [],
   "source": [
    "def init():\n",
    "    dsk = SigningKey.generate(curve=SECP256k1)\n",
    "    dvk = dsk.get_verifying_key()\n",
    "    isk = SigningKey.generate(curve=SECP256k1)\n",
    "    ivk = isk.get_verifying_key()\n",
    "    h = hashlib.sha256()\n",
    "    h.update(ivk.to_string())\n",
    "    ikHash = h.digest()\n",
    "    print(\"Write these words down, this will allow you to recover your identity if this device is hacked or stolen(BIP39):\")\n",
    "    print(\"================================================\")\n",
    "    print(m.to_mnemonic(isk.to_string())) #replace with mnemonic!!!\n",
    "    print(\"================================================\")\n",
    "    bCast = bCastMerkle(b\"Key Replacement\",dvk.to_string()+ikHash)\n",
    "    mr = mRoot(bCast[2], bytearray(32))\n",
    "    blkSig = makeBlock(1,mr,bytearray(64),dsk)\n",
    "    return blkSig, dsk\n",
    "\n",
    "    \n",
    "def say(op,typ, value,prevBlk, dataHash, sk,workDur):\n",
    "    lhashes = bCastMerkle(typ,value)\n",
    "    mr = mRoot(lhashes[2],dataHash)\n",
    "    blkSig = makeBlock(op,mr,prevBlk,sk)\n",
    "    nonce = addWork(blkSig, workDur)\n",
    "    return blkSig\n",
    "    \n",
    "def tweet(prevBlk, tweet, hashTag, sk, workDur):\n",
    "    h = hashlib.sha256()\n",
    "    h.update(tweet.encode('utf-8'))\n",
    "    dataHash = h.digest()\n",
    "    tweet.encode('utf-8')\n",
    "    return say(5,b\"Tweet\",hashTag.encode('utf-8'),prevBlk,dataHash,sk,workDur)\n",
    "    "
   ]
  },
  {
   "cell_type": "markdown",
   "metadata": {},
   "source": [
    "## Initialize a New Identity\n",
    "1. Generates two keys\n",
    "    - One key is stored on the device(Hot)\n",
    "    - Second key is out put as a BIP39 Mnemonic(Cold)\n",
    "2. The hash of the Cold key's public key is included in the first block of this Identity\n",
    "3. The merkleroot and previous block signature(all zeros since this the first block) are signed by the Hot key\n",
    "    "
   ]
  },
  {
   "cell_type": "code",
   "execution_count": 12,
   "metadata": {},
   "outputs": [
    {
     "name": "stdout",
     "output_type": "stream",
     "text": [
      "Write these words down, this will allow you to recover your identity if this device is hacked or stolen(BIP39):\n",
      "================================================\n",
      "amateur reveal vapor connect short modify tortoise cram insane birth tank moment obvious elbow dizzy impact oxygen situate mass lab exercise leader mule uncle\n",
      "================================================\n"
     ]
    }
   ],
   "source": [
    "blkSig0, deviceSK = init()"
   ]
  },
  {
   "cell_type": "markdown",
   "metadata": {},
   "source": [
    "## Broadcast a Well Known name for this idchain\n",
    "This example does 10 seconds of proof of work on the second block in our chain to broadcast a name we want to be known as\n",
    "- we can add more work to this later \n",
    "- we have the option to have multiple names"
   ]
  },
  {
   "cell_type": "code",
   "execution_count": 13,
   "metadata": {},
   "outputs": [
    {
     "name": "stdout",
     "output_type": "stream",
     "text": [
      "b'00001ee79b361e1154278bb8896957381359de650e7169765910f1d9e66544fe'\n",
      "607500\n"
     ]
    }
   ],
   "source": [
    "blkSig1 = say(2,b\"Well Known\",b\"HashD\",blkSig0,bytearray(32),deviceSK,10)"
   ]
  },
  {
   "cell_type": "markdown",
   "metadata": {},
   "source": [
    "## Broadcast a Service Endpoint\n",
    "Now that people know our name we want then to be able to connect to us\n",
    "\n",
    "Since we have already 10 seconds of PoW we don't need to add much work to broadcast a service endpoint\n",
    "\n",
    "Metcalf's Law means adding more peers is a postive sum game, other nodes will value the data that allows them to connect to more peers and information. Self incentivizing them to keep more of this message type for a given amount of PoW"
   ]
  },
  {
   "cell_type": "code",
   "execution_count": 14,
   "metadata": {},
   "outputs": [
    {
     "name": "stdout",
     "output_type": "stream",
     "text": [
      "b'00002d2d67d324860b212e05dc8e1e7a2e27e9a68396dad8c8ad0bc9eabc99f8'\n",
      "29401\n"
     ]
    }
   ],
   "source": [
    "ip = get_ip()\n",
    "\n",
    "blkSig2 = say(3,b\"Service Endpoint\",ip.encode('utf-8'),blkSig1,bytearray(32),deviceSK,2)"
   ]
  },
  {
   "cell_type": "markdown",
   "metadata": {},
   "source": [
    "## Broadcast a Tweet \n",
    "Because everyone wants to be heard we have to shout very loudly, or turn up the transmit power of our virtual radio broadcast\n",
    "\n",
    "We will do 60 seconds of hash, which on this laptop factoring in depreciation and energy will cost me about $0.0002, which means I could buy 800KB on a modern NVME SSD\n",
    "\n",
    "To store the data that would allow people to discover the tweet a node would only need to store 378b verify a few hashes and a signature\n",
    "\n",
    "The Nash Equilibrium of cost to broadcast vs cost to network for storage means roughly 2100 nodes could store this broadcast with even cost to publisher and listeners"
   ]
  },
  {
   "cell_type": "code",
   "execution_count": 15,
   "metadata": {},
   "outputs": [
    {
     "name": "stdout",
     "output_type": "stream",
     "text": [
      "b'0000009f645372268b6d15bd307be252b0f6c8fdc844b8295f965fa615b9adc9'\n",
      "1445516\n"
     ]
    }
   ],
   "source": [
    "blkSig3 = tweet(blkSig2,\"First\",\"ethDenver\",deviceSK,60)"
   ]
  },
  {
   "cell_type": "code",
   "execution_count": null,
   "metadata": {},
   "outputs": [],
   "source": []
  },
  {
   "cell_type": "code",
   "execution_count": null,
   "metadata": {},
   "outputs": [],
   "source": []
  },
  {
   "cell_type": "code",
   "execution_count": null,
   "metadata": {},
   "outputs": [],
   "source": []
  }
 ],
 "metadata": {
  "kernelspec": {
   "display_name": "Python 3",
   "language": "python",
   "name": "python3"
  },
  "language_info": {
   "codemirror_mode": {
    "name": "ipython",
    "version": 3
   },
   "file_extension": ".py",
   "mimetype": "text/x-python",
   "name": "python",
   "nbconvert_exporter": "python",
   "pygments_lexer": "ipython3",
   "version": "3.6.5"
  }
 },
 "nbformat": 4,
 "nbformat_minor": 2
}
